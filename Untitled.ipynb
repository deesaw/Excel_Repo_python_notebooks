{
 "cells": [
  {
   "cell_type": "code",
   "execution_count": 1,
   "metadata": {},
   "outputs": [],
   "source": [
    "import sqlite3\n",
    "import pandas as pd\n",
    " \n",
    "conn = sqlite3.connect(\"mydatabase.db\")\n",
    "cursor = conn.cursor()\n"
   ]
  },
  {
   "cell_type": "code",
   "execution_count": 2,
   "metadata": {},
   "outputs": [
    {
     "name": "stdout",
     "output_type": "stream",
     "text": [
      "listing of all the records in the table:\n",
      "   Id filename                                               file\n",
      "0   1    1.jpg  b'\\xff\\xd8\\xff\\xe0\\x00\\x10JFIF\\x00\\x01\\x01\\x00...\n",
      "1   2   2.xlsx  b'PK\\x03\\x04\\x14\\x00\\x00\\x00\\x08\\x00\\x00\\x00?\\...\n",
      "2   2    3.pdf  b'%PDF-1.6\\r%\\xe2\\xe3\\xcf\\xd3\\r\\n2881 0 obj\\r<...\n"
     ]
    }
   ],
   "source": [
    "import pandas as pd\n",
    "import sqlite3\n",
    "#from hdbcli import dbapi(for Hana)\n",
    "conn = sqlite3.connect(\"mydatabase.db\")\n",
    "\"\"\"\n",
    "conn = dbapi.connect(\n",
    "    address=\"<hostname>\", \n",
    "    port=3<NN>MM, \n",
    "    user=\"<username>\", \n",
    "    password=\"<password>\"\n",
    ")\n",
    "\"\"\"\n",
    "cursor = conn.cursor()\n",
    "\n",
    "sql = \"SELECT * FROM blobcheck\"\n",
    "print (\"listing of all the records in the table:\")\n",
    "l=[]\n",
    "cursor.execute(sql)\n",
    "rows=cursor.fetchall() \n",
    "names = [desc[0] for desc in cursor.description] \n",
    "df = pd.DataFrame([tuple(t) for t in rows]) \n",
    "df.columns=names\n",
    "print(df)\n",
    "conn.close()\n",
    "length=df.shape[0]\n",
    "for i in range(length):\n",
    "    with open(df['filename'][i], \"wb\") as fh:\n",
    "        fh.write(df['file'][i])"
   ]
  },
  {
   "cell_type": "code",
   "execution_count": null,
   "metadata": {},
   "outputs": [],
   "source": [
    "def winscp_login(username,password,winscp_server):\n",
    "    global sftp,count_error\n",
    "    try:\n",
    "        with warnings.catch_warnings():\n",
    "            warnings.simplefilter(\"ignore\")\n",
    "            cnopts = pysftp.CnOpts()\n",
    "            cnopts.hostkeys = None\n",
    "            sftp = pysftp.Connection(winscp_server, username=user_name, password=passwd,cnopts=cnopts)\n",
    "    except:\n",
    "        print(\"\\n..  \" + Fore.WHITE + Back.RED +  \"Login Failed Due to incorrect User Name/Password. Please try again!\" + Style.RESET_ALL +\"\\n\")\n",
    "        count_error = 1\n",
    "        return(404) \n",
    " \n"
   ]
  },
  {
   "cell_type": "code",
   "execution_count": 5,
   "metadata": {},
   "outputs": [
    {
     "data": {
      "text/html": [
       "<div>\n",
       "<style scoped>\n",
       "    .dataframe tbody tr th:only-of-type {\n",
       "        vertical-align: middle;\n",
       "    }\n",
       "\n",
       "    .dataframe tbody tr th {\n",
       "        vertical-align: top;\n",
       "    }\n",
       "\n",
       "    .dataframe thead th {\n",
       "        text-align: right;\n",
       "    }\n",
       "</style>\n",
       "<table border=\"1\" class=\"dataframe\">\n",
       "  <thead>\n",
       "    <tr style=\"text-align: right;\">\n",
       "      <th></th>\n",
       "      <th>0</th>\n",
       "      <th>1</th>\n",
       "      <th>2</th>\n",
       "    </tr>\n",
       "  </thead>\n",
       "  <tbody>\n",
       "    <tr>\n",
       "      <th>0</th>\n",
       "      <td>1</td>\n",
       "      <td>1.jpg</td>\n",
       "      <td>b'\\xff\\xd8\\xff\\xe0\\x00\\x10JFIF\\x00\\x01\\x01\\x00...</td>\n",
       "    </tr>\n",
       "    <tr>\n",
       "      <th>1</th>\n",
       "      <td>2</td>\n",
       "      <td>2.xlsx</td>\n",
       "      <td>b'PK\\x03\\x04\\x14\\x00\\x00\\x00\\x08\\x00\\x00\\x00?\\...</td>\n",
       "    </tr>\n",
       "    <tr>\n",
       "      <th>2</th>\n",
       "      <td>2</td>\n",
       "      <td>3.pdf</td>\n",
       "      <td>b'%PDF-1.6\\r%\\xe2\\xe3\\xcf\\xd3\\r\\n2881 0 obj\\r&lt;...</td>\n",
       "    </tr>\n",
       "  </tbody>\n",
       "</table>\n",
       "</div>"
      ],
      "text/plain": [
       "   0       1                                                  2\n",
       "0  1   1.jpg  b'\\xff\\xd8\\xff\\xe0\\x00\\x10JFIF\\x00\\x01\\x01\\x00...\n",
       "1  2  2.xlsx  b'PK\\x03\\x04\\x14\\x00\\x00\\x00\\x08\\x00\\x00\\x00?\\...\n",
       "2  2   3.pdf  b'%PDF-1.6\\r%\\xe2\\xe3\\xcf\\xd3\\r\\n2881 0 obj\\r<..."
      ]
     },
     "execution_count": 5,
     "metadata": {},
     "output_type": "execute_result"
    }
   ],
   "source": [
    "df"
   ]
  },
  {
   "cell_type": "code",
   "execution_count": null,
   "metadata": {},
   "outputs": [],
   "source": [
    "for row in cursor.execute(sql):\n",
    "    l.append(row)\n",
    "    for i in row:\n",
    "        print(i)\n",
    "print(l)\n",
    " \n",
    "print (\"Results...\")\n",
    "\n",
    "cursor.execute(sql)\n",
    "conn.close()"
   ]
  },
  {
   "cell_type": "code",
   "execution_count": null,
   "metadata": {},
   "outputs": [],
   "source": []
  }
 ],
 "metadata": {
  "kernelspec": {
   "display_name": "Python 3",
   "language": "python",
   "name": "python3"
  },
  "language_info": {
   "codemirror_mode": {
    "name": "ipython",
    "version": 3
   },
   "file_extension": ".py",
   "mimetype": "text/x-python",
   "name": "python",
   "nbconvert_exporter": "python",
   "pygments_lexer": "ipython3",
   "version": "3.7.6"
  }
 },
 "nbformat": 4,
 "nbformat_minor": 4
}
